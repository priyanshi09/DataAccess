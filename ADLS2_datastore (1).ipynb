{
 "cells": [
  {
   "cell_type": "markdown",
   "metadata": {},
   "source": [
    "# Connecting to Azure Data Lake through Servive Principle"
   ]
  },
  {
   "cell_type": "markdown",
   "metadata": {},
   "source": [
    "## Folllow the Steps:\n",
    "1. Create a new App from Azure Portal\n",
    "        a. Go to Azure Portal (https://portal.azure.com/)\n",
    "        b. Search App Registration from search toolbar\n",
    "        c. Click on New Registration: \n",
    "<img src=\"1.JPG\" width=\"600\">\n",
    "\n",
    "        \n",
    "        \n",
    "        d.Fill in the information\n",
    "<img src=\"2.JPG\" width=\"600\">\n",
    "\n",
    "        e.Once the App is registered, open the app by going to app registration. Go to Certifictaes and secrets, Click on new certificate.\n",
    "<img src=\"3.JPG\" width=\"600\">\n",
    "\n",
    "        f. Once Certificate is created, copy the value and save it somewhere safe. \n",
    "<img src=\"4.JPG\" width=\"600\">\n",
    "2. Go to your Azure data lake storage account and give your service priciple \"Storage Blob Data Contributor\" access. \n",
    "<img src=\"5.JPG\" width=\"600\">\n",
    "3. After Saving it, wait for atleast 15 minutes for the changes to be propogated.\n",
    "4. Service Principle is set up now. To access data, retrieve the following from app registration:\n",
    "\n",
    "        a. Tenant ID\n",
    "        b. Client ID\n",
    "        c. Client certificate Value\n"
   ]
  },
  {
   "cell_type": "code",
   "execution_count": 8,
   "metadata": {},
   "outputs": [
    {
     "name": "stdout",
     "output_type": "stream",
     "text": [
      "Performing interactive authentication. Please follow the instructions on the terminal.\n",
      "To sign in, use a web browser to open the page https://microsoft.com/devicelogin and enter the code ESKEQ4F2J to authenticate.\n"
     ]
    },
    {
     "name": "stderr",
     "output_type": "stream",
     "text": [
      "WARNING - Failed to authenticate '{'additional_properties': {}, 'id': '/tenants/79c07380-cc98-41bd-806b-0ae925588f66', 'tenant_id': '79c07380-cc98-41bd-806b-0ae925588f66'}' due to error 'Get Token request returned http error: 400 and server response: {\"error\":\"interaction_required\",\"error_description\":\"AADSTS50076: Due to a configuration change made by your administrator, or because you moved to a new location, you must use multi-factor authentication to access '797f4846-ba00-4fd7-ba43-dac1f8f63013'.\\r\\nTrace ID: e90f3425-2fb2-45fe-a9b1-4e42621d9700\\r\\nCorrelation ID: ea99d294-4841-4478-a933-ab1ea5fcc151\\r\\nTimestamp: 2021-03-29 15:37:42Z\",\"error_codes\":[50076],\"timestamp\":\"2021-03-29 15:37:42Z\",\"trace_id\":\"e90f3425-2fb2-45fe-a9b1-4e42621d9700\",\"correlation_id\":\"ea99d294-4841-4478-a933-ab1ea5fcc151\",\"error_uri\":\"https://login.microsoftonline.com/error?code=50076\",\"suberror\":\"basic_action\"}'\n",
      "WARNING - Failed to authenticate '{'additional_properties': {}, 'id': '/tenants/f079c315-facc-4d90-8a1a-00ea23258a68', 'tenant_id': 'f079c315-facc-4d90-8a1a-00ea23258a68'}' due to error 'Get Token request returned http error: 400 and server response: {\"error\":\"interaction_required\",\"error_description\":\"AADSTS50076: Due to a configuration change made by your administrator, or because you moved to a new location, you must use multi-factor authentication to access '797f4846-ba00-4fd7-ba43-dac1f8f63013'.\\r\\nTrace ID: bdc5f54b-312f-4367-b167-1b0a69587800\\r\\nCorrelation ID: bf043f2a-98e9-4d31-922b-275d2c4a8a5a\\r\\nTimestamp: 2021-03-29 15:37:42Z\",\"error_codes\":[50076],\"timestamp\":\"2021-03-29 15:37:42Z\",\"trace_id\":\"bdc5f54b-312f-4367-b167-1b0a69587800\",\"correlation_id\":\"bf043f2a-98e9-4d31-922b-275d2c4a8a5a\",\"error_uri\":\"https://login.microsoftonline.com/error?code=50076\",\"suberror\":\"basic_action\"}'\n"
     ]
    },
    {
     "name": "stdout",
     "output_type": "stream",
     "text": [
      "Interactive authentication successfully completed.\n"
     ]
    }
   ],
   "source": [
    "import azureml.core\n",
    "from azureml.core import Workspace, Datastore\n",
    "\n",
    "ws = Workspace.from_config()"
   ]
  },
  {
   "cell_type": "code",
   "execution_count": 2,
   "metadata": {},
   "outputs": [],
   "source": [
    "adlsgen2_datastore_name = 'adlsgen2datastore'\n",
    "\n",
    "subscription_id= \"ab8f5415-63b3-4fd4-8a8a-9213316abb6e\" # subscription id of ADLS account\n",
    "resource_group= \"Priya311resourcegroup\" # resource group of ADLS account\n",
    "\n",
    "account_name=\"priyadatalakestorage\" # ADLS Gen2 account name\n",
    "tenant_id= \"72f988bf-86f1-41af-91ab-2d7cd011db47\" # tenant id of service principal\n",
    "client_id= \"b0fec2ad-af3f-40d3-862c-b765b746c1bc\"# client id of service principal\n",
    "client_secret= \"8IWBzimCI.R~.y115HeCg~QGN.-hvycsjp\" # the secret of service principal\n",
    "\n",
    "adlsgen2_datastore = Datastore.register_azure_data_lake_gen2(workspace=ws,\n",
    "                                                             datastore_name=adlsgen2_datastore_name,\n",
    "                                                             account_name=account_name, # ADLS Gen2 account name\n",
    "                                                             filesystem='opendata', # ADLS Gen2 filesystem\n",
    "                                                             tenant_id=tenant_id, # tenant id of service principal\n",
    "                                                             client_id=client_id, # client id of service principal\n",
    "                                                             client_secret=client_secret) # the secret of service principal"
   ]
  },
  {
   "cell_type": "code",
   "execution_count": 3,
   "metadata": {},
   "outputs": [],
   "source": [
    "from azureml.core import Workspace, Datastore, Dataset\n",
    "\n",
    "datastore_name = 'adlsgen2datastore'\n",
    "\n",
    "    \n",
    "# retrieve an existing datastore in the workspace by name\n",
    "datastore = Datastore.get(ws, datastore_name)\n",
    "\n",
    "# create a TabularDataset from 3 file paths in datastore\n",
    "datastore_paths = [(datastore, 'Time Series Dataset.csv')]\n",
    "\n",
    "time_ds = Dataset.Tabular.from_delimited_files(path=datastore_paths)"
   ]
  },
  {
   "cell_type": "code",
   "execution_count": 5,
   "metadata": {},
   "outputs": [
    {
     "data": {
      "text/html": [
       "<div>\n",
       "<style scoped>\n",
       "    .dataframe tbody tr th:only-of-type {\n",
       "        vertical-align: middle;\n",
       "    }\n",
       "\n",
       "    .dataframe tbody tr th {\n",
       "        vertical-align: top;\n",
       "    }\n",
       "\n",
       "    .dataframe thead th {\n",
       "        text-align: right;\n",
       "    }\n",
       "</style>\n",
       "<table border=\"1\" class=\"dataframe\">\n",
       "  <thead>\n",
       "    <tr style=\"text-align: right;\">\n",
       "      <th></th>\n",
       "      <th>time</th>\n",
       "      <th>N1725</th>\n",
       "    </tr>\n",
       "  </thead>\n",
       "  <tbody>\n",
       "    <tr>\n",
       "      <th>0</th>\n",
       "      <td>1</td>\n",
       "      <td>3740</td>\n",
       "    </tr>\n",
       "    <tr>\n",
       "      <th>1</th>\n",
       "      <td>2</td>\n",
       "      <td>2880</td>\n",
       "    </tr>\n",
       "    <tr>\n",
       "      <th>2</th>\n",
       "      <td>3</td>\n",
       "      <td>2620</td>\n",
       "    </tr>\n",
       "    <tr>\n",
       "      <th>3</th>\n",
       "      <td>4</td>\n",
       "      <td>2860</td>\n",
       "    </tr>\n",
       "    <tr>\n",
       "      <th>4</th>\n",
       "      <td>5</td>\n",
       "      <td>2640</td>\n",
       "    </tr>\n",
       "  </tbody>\n",
       "</table>\n",
       "</div>"
      ],
      "text/plain": [
       "   time  N1725\n",
       "0     1   3740\n",
       "1     2   2880\n",
       "2     3   2620\n",
       "3     4   2860\n",
       "4     5   2640"
      ]
     },
     "execution_count": 5,
     "metadata": {},
     "output_type": "execute_result"
    }
   ],
   "source": [
    "time_ds.to_pandas_dataframe().head()"
   ]
  },
  {
   "cell_type": "code",
   "execution_count": null,
   "metadata": {},
   "outputs": [],
   "source": []
  }
 ],
 "metadata": {
  "kernelspec": {
   "display_name": "Python 3.6 - AzureML",
   "language": "python",
   "name": "python3-azureml"
  },
  "language_info": {
   "codemirror_mode": {
    "name": "ipython",
    "version": 3
   },
   "file_extension": ".py",
   "mimetype": "text/x-python",
   "name": "python",
   "nbconvert_exporter": "python",
   "pygments_lexer": "ipython3",
   "version": "3.6.9"
  }
 },
 "nbformat": 4,
 "nbformat_minor": 4
}
